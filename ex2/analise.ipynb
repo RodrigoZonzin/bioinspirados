{
 "cells": [
  {
   "cell_type": "code",
   "execution_count": 1,
   "id": "e3d65a0c",
   "metadata": {},
   "outputs": [],
   "source": [
    "import pandas as pd \n",
    "import numpy as np \n",
    "import matplotlib.pyplot as plt"
   ]
  },
  {
   "cell_type": "code",
   "execution_count": 3,
   "id": "6a29d49c",
   "metadata": {},
   "outputs": [],
   "source": [
    "df = pd.read_csv('resultados_ag.csv')"
   ]
  },
  {
   "cell_type": "code",
   "execution_count": 17,
   "id": "a22520c5",
   "metadata": {},
   "outputs": [],
   "source": [
    "from csv2pdf import convert\n",
    "\n",
    "convert(\"resultados_ag.csv\", \"destination.pdf\")"
   ]
  }
 ],
 "metadata": {
  "kernelspec": {
   "display_name": "Python 3",
   "language": "python",
   "name": "python3"
  },
  "language_info": {
   "codemirror_mode": {
    "name": "ipython",
    "version": 3
   },
   "file_extension": ".py",
   "mimetype": "text/x-python",
   "name": "python",
   "nbconvert_exporter": "python",
   "pygments_lexer": "ipython3",
   "version": "3.12.3"
  }
 },
 "nbformat": 4,
 "nbformat_minor": 5
}
